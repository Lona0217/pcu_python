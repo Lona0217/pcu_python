{
 "cells": [
  {
   "cell_type": "markdown",
   "id": "5e513fb3",
   "metadata": {},
   "source": [
    "![01](01.png)"
   ]
  },
  {
   "cell_type": "markdown",
   "id": "386899bf",
   "metadata": {},
   "source": [
    "https://data.seoul.go.kr/\n",
    "### 서울시 청소년 정신건강 통계"
   ]
  },
  {
   "cell_type": "markdown",
   "id": "73317da7",
   "metadata": {},
   "source": []
  },
  {
   "cell_type": "code",
   "execution_count": 6,
   "id": "6f0c0a1e",
   "metadata": {},
   "outputs": [],
   "source": [
    "import pandas as pd"
   ]
  },
  {
   "cell_type": "code",
   "execution_count": 7,
   "id": "e4a0d570",
   "metadata": {},
   "outputs": [],
   "source": [
    "dates = pd.date_range('20190301', periods = 6)"
   ]
  },
  {
   "cell_type": "code",
   "execution_count": 8,
   "id": "31d9fc65",
   "metadata": {},
   "outputs": [
    {
     "data": {
      "text/plain": [
       "DatetimeIndex(['2019-03-01', '2019-03-02', '2019-03-03', '2019-03-04',\n",
       "               '2019-03-05', '2019-03-06'],\n",
       "              dtype='datetime64[ns]', freq='D')"
      ]
     },
     "execution_count": 8,
     "metadata": {},
     "output_type": "execute_result"
    }
   ],
   "source": [
    "dates"
   ]
  },
  {
   "cell_type": "code",
   "execution_count": 9,
   "id": "d5314978",
   "metadata": {},
   "outputs": [],
   "source": [
    "import numpy as np"
   ]
  },
  {
   "cell_type": "code",
   "execution_count": 10,
   "id": "df5cb973",
   "metadata": {},
   "outputs": [],
   "source": [
    "df = pd.DataFrame(np.random.randn(6,4), index = dates, columns = ['A', 'B', 'C', 'D'])"
   ]
  },
  {
   "cell_type": "code",
   "execution_count": 11,
   "id": "8ac2fb3e",
   "metadata": {},
   "outputs": [
    {
     "data": {
      "text/html": [
       "<div>\n",
       "<style scoped>\n",
       "    .dataframe tbody tr th:only-of-type {\n",
       "        vertical-align: middle;\n",
       "    }\n",
       "\n",
       "    .dataframe tbody tr th {\n",
       "        vertical-align: top;\n",
       "    }\n",
       "\n",
       "    .dataframe thead th {\n",
       "        text-align: right;\n",
       "    }\n",
       "</style>\n",
       "<table border=\"1\" class=\"dataframe\">\n",
       "  <thead>\n",
       "    <tr style=\"text-align: right;\">\n",
       "      <th></th>\n",
       "      <th>A</th>\n",
       "      <th>B</th>\n",
       "      <th>C</th>\n",
       "      <th>D</th>\n",
       "    </tr>\n",
       "  </thead>\n",
       "  <tbody>\n",
       "    <tr>\n",
       "      <th>2019-03-01</th>\n",
       "      <td>-0.269541</td>\n",
       "      <td>-0.368149</td>\n",
       "      <td>-1.110770</td>\n",
       "      <td>0.016233</td>\n",
       "    </tr>\n",
       "    <tr>\n",
       "      <th>2019-03-02</th>\n",
       "      <td>-0.160248</td>\n",
       "      <td>0.239577</td>\n",
       "      <td>-0.031435</td>\n",
       "      <td>1.184636</td>\n",
       "    </tr>\n",
       "    <tr>\n",
       "      <th>2019-03-03</th>\n",
       "      <td>-0.359648</td>\n",
       "      <td>0.871243</td>\n",
       "      <td>0.204139</td>\n",
       "      <td>-0.836813</td>\n",
       "    </tr>\n",
       "    <tr>\n",
       "      <th>2019-03-04</th>\n",
       "      <td>-0.341473</td>\n",
       "      <td>-0.825769</td>\n",
       "      <td>0.116483</td>\n",
       "      <td>-0.708801</td>\n",
       "    </tr>\n",
       "    <tr>\n",
       "      <th>2019-03-05</th>\n",
       "      <td>1.997129</td>\n",
       "      <td>0.991951</td>\n",
       "      <td>0.242911</td>\n",
       "      <td>0.925846</td>\n",
       "    </tr>\n",
       "    <tr>\n",
       "      <th>2019-03-06</th>\n",
       "      <td>-1.361861</td>\n",
       "      <td>0.229540</td>\n",
       "      <td>-0.528811</td>\n",
       "      <td>-0.323821</td>\n",
       "    </tr>\n",
       "  </tbody>\n",
       "</table>\n",
       "</div>"
      ],
      "text/plain": [
       "                   A         B         C         D\n",
       "2019-03-01 -0.269541 -0.368149 -1.110770  0.016233\n",
       "2019-03-02 -0.160248  0.239577 -0.031435  1.184636\n",
       "2019-03-03 -0.359648  0.871243  0.204139 -0.836813\n",
       "2019-03-04 -0.341473 -0.825769  0.116483 -0.708801\n",
       "2019-03-05  1.997129  0.991951  0.242911  0.925846\n",
       "2019-03-06 -1.361861  0.229540 -0.528811 -0.323821"
      ]
     },
     "execution_count": 11,
     "metadata": {},
     "output_type": "execute_result"
    }
   ],
   "source": [
    "df"
   ]
  },
  {
   "cell_type": "code",
   "execution_count": 12,
   "id": "35f262a8",
   "metadata": {},
   "outputs": [
    {
     "data": {
      "text/plain": [
       "pandas.core.frame.DataFrame"
      ]
     },
     "execution_count": 12,
     "metadata": {},
     "output_type": "execute_result"
    }
   ],
   "source": [
    "type(df)"
   ]
  },
  {
   "cell_type": "code",
   "execution_count": 13,
   "id": "bfa1ac7f",
   "metadata": {},
   "outputs": [
    {
     "data": {
      "text/plain": [
       "Index(['A', 'B', 'C', 'D'], dtype='object')"
      ]
     },
     "execution_count": 13,
     "metadata": {},
     "output_type": "execute_result"
    }
   ],
   "source": [
    "df.columns"
   ]
  },
  {
   "cell_type": "code",
   "execution_count": 14,
   "id": "f91baf08",
   "metadata": {},
   "outputs": [
    {
     "data": {
      "text/plain": [
       "DatetimeIndex(['2019-03-01', '2019-03-02', '2019-03-03', '2019-03-04',\n",
       "               '2019-03-05', '2019-03-06'],\n",
       "              dtype='datetime64[ns]', freq='D')"
      ]
     },
     "execution_count": 14,
     "metadata": {},
     "output_type": "execute_result"
    }
   ],
   "source": [
    "df.index"
   ]
  },
  {
   "cell_type": "code",
   "execution_count": 15,
   "id": "dafc3580",
   "metadata": {},
   "outputs": [
    {
     "data": {
      "text/plain": [
       "array([[-0.26954096, -0.36814891, -1.11077009,  0.01623259],\n",
       "       [-0.16024819,  0.23957682, -0.03143548,  1.18463641],\n",
       "       [-0.35964828,  0.8712431 ,  0.20413884, -0.83681285],\n",
       "       [-0.34147285, -0.82576908,  0.11648294, -0.70880118],\n",
       "       [ 1.99712924,  0.99195063,  0.24291146,  0.92584613],\n",
       "       [-1.36186095,  0.22953965, -0.52881137, -0.32382053]])"
      ]
     },
     "execution_count": 15,
     "metadata": {},
     "output_type": "execute_result"
    }
   ],
   "source": [
    "df.values"
   ]
  },
  {
   "cell_type": "code",
   "execution_count": 16,
   "id": "9771da86",
   "metadata": {},
   "outputs": [
    {
     "data": {
      "text/html": [
       "<div>\n",
       "<style scoped>\n",
       "    .dataframe tbody tr th:only-of-type {\n",
       "        vertical-align: middle;\n",
       "    }\n",
       "\n",
       "    .dataframe tbody tr th {\n",
       "        vertical-align: top;\n",
       "    }\n",
       "\n",
       "    .dataframe thead th {\n",
       "        text-align: right;\n",
       "    }\n",
       "</style>\n",
       "<table border=\"1\" class=\"dataframe\">\n",
       "  <thead>\n",
       "    <tr style=\"text-align: right;\">\n",
       "      <th></th>\n",
       "      <th>A</th>\n",
       "      <th>B</th>\n",
       "      <th>C</th>\n",
       "      <th>D</th>\n",
       "    </tr>\n",
       "  </thead>\n",
       "  <tbody>\n",
       "    <tr>\n",
       "      <th>count</th>\n",
       "      <td>6.000000</td>\n",
       "      <td>6.000000</td>\n",
       "      <td>6.000000</td>\n",
       "      <td>6.000000</td>\n",
       "    </tr>\n",
       "    <tr>\n",
       "      <th>mean</th>\n",
       "      <td>-0.082607</td>\n",
       "      <td>0.189732</td>\n",
       "      <td>-0.184581</td>\n",
       "      <td>0.042880</td>\n",
       "    </tr>\n",
       "    <tr>\n",
       "      <th>std</th>\n",
       "      <td>1.108741</td>\n",
       "      <td>0.700650</td>\n",
       "      <td>0.533717</td>\n",
       "      <td>0.843481</td>\n",
       "    </tr>\n",
       "    <tr>\n",
       "      <th>min</th>\n",
       "      <td>-1.361861</td>\n",
       "      <td>-0.825769</td>\n",
       "      <td>-1.110770</td>\n",
       "      <td>-0.836813</td>\n",
       "    </tr>\n",
       "    <tr>\n",
       "      <th>25%</th>\n",
       "      <td>-0.355104</td>\n",
       "      <td>-0.218727</td>\n",
       "      <td>-0.404467</td>\n",
       "      <td>-0.612556</td>\n",
       "    </tr>\n",
       "    <tr>\n",
       "      <th>50%</th>\n",
       "      <td>-0.305507</td>\n",
       "      <td>0.234558</td>\n",
       "      <td>0.042524</td>\n",
       "      <td>-0.153794</td>\n",
       "    </tr>\n",
       "    <tr>\n",
       "      <th>75%</th>\n",
       "      <td>-0.187571</td>\n",
       "      <td>0.713327</td>\n",
       "      <td>0.182225</td>\n",
       "      <td>0.698443</td>\n",
       "    </tr>\n",
       "    <tr>\n",
       "      <th>max</th>\n",
       "      <td>1.997129</td>\n",
       "      <td>0.991951</td>\n",
       "      <td>0.242911</td>\n",
       "      <td>1.184636</td>\n",
       "    </tr>\n",
       "  </tbody>\n",
       "</table>\n",
       "</div>"
      ],
      "text/plain": [
       "              A         B         C         D\n",
       "count  6.000000  6.000000  6.000000  6.000000\n",
       "mean  -0.082607  0.189732 -0.184581  0.042880\n",
       "std    1.108741  0.700650  0.533717  0.843481\n",
       "min   -1.361861 -0.825769 -1.110770 -0.836813\n",
       "25%   -0.355104 -0.218727 -0.404467 -0.612556\n",
       "50%   -0.305507  0.234558  0.042524 -0.153794\n",
       "75%   -0.187571  0.713327  0.182225  0.698443\n",
       "max    1.997129  0.991951  0.242911  1.184636"
      ]
     },
     "execution_count": 16,
     "metadata": {},
     "output_type": "execute_result"
    }
   ],
   "source": [
    "df.describe()"
   ]
  },
  {
   "cell_type": "code",
   "execution_count": 17,
   "id": "af7c1eb5",
   "metadata": {},
   "outputs": [
    {
     "data": {
      "text/html": [
       "<div>\n",
       "<style scoped>\n",
       "    .dataframe tbody tr th:only-of-type {\n",
       "        vertical-align: middle;\n",
       "    }\n",
       "\n",
       "    .dataframe tbody tr th {\n",
       "        vertical-align: top;\n",
       "    }\n",
       "\n",
       "    .dataframe thead th {\n",
       "        text-align: right;\n",
       "    }\n",
       "</style>\n",
       "<table border=\"1\" class=\"dataframe\">\n",
       "  <thead>\n",
       "    <tr style=\"text-align: right;\">\n",
       "      <th></th>\n",
       "      <th>A</th>\n",
       "      <th>B</th>\n",
       "      <th>C</th>\n",
       "      <th>D</th>\n",
       "    </tr>\n",
       "  </thead>\n",
       "  <tbody>\n",
       "    <tr>\n",
       "      <th>2019-03-06</th>\n",
       "      <td>-1.361861</td>\n",
       "      <td>0.229540</td>\n",
       "      <td>-0.528811</td>\n",
       "      <td>-0.323821</td>\n",
       "    </tr>\n",
       "    <tr>\n",
       "      <th>2019-03-03</th>\n",
       "      <td>-0.359648</td>\n",
       "      <td>0.871243</td>\n",
       "      <td>0.204139</td>\n",
       "      <td>-0.836813</td>\n",
       "    </tr>\n",
       "    <tr>\n",
       "      <th>2019-03-04</th>\n",
       "      <td>-0.341473</td>\n",
       "      <td>-0.825769</td>\n",
       "      <td>0.116483</td>\n",
       "      <td>-0.708801</td>\n",
       "    </tr>\n",
       "    <tr>\n",
       "      <th>2019-03-01</th>\n",
       "      <td>-0.269541</td>\n",
       "      <td>-0.368149</td>\n",
       "      <td>-1.110770</td>\n",
       "      <td>0.016233</td>\n",
       "    </tr>\n",
       "    <tr>\n",
       "      <th>2019-03-02</th>\n",
       "      <td>-0.160248</td>\n",
       "      <td>0.239577</td>\n",
       "      <td>-0.031435</td>\n",
       "      <td>1.184636</td>\n",
       "    </tr>\n",
       "    <tr>\n",
       "      <th>2019-03-05</th>\n",
       "      <td>1.997129</td>\n",
       "      <td>0.991951</td>\n",
       "      <td>0.242911</td>\n",
       "      <td>0.925846</td>\n",
       "    </tr>\n",
       "  </tbody>\n",
       "</table>\n",
       "</div>"
      ],
      "text/plain": [
       "                   A         B         C         D\n",
       "2019-03-06 -1.361861  0.229540 -0.528811 -0.323821\n",
       "2019-03-03 -0.359648  0.871243  0.204139 -0.836813\n",
       "2019-03-04 -0.341473 -0.825769  0.116483 -0.708801\n",
       "2019-03-01 -0.269541 -0.368149 -1.110770  0.016233\n",
       "2019-03-02 -0.160248  0.239577 -0.031435  1.184636\n",
       "2019-03-05  1.997129  0.991951  0.242911  0.925846"
      ]
     },
     "execution_count": 17,
     "metadata": {},
     "output_type": "execute_result"
    }
   ],
   "source": [
    "df.sort_values(by = 'A')"
   ]
  },
  {
   "cell_type": "code",
   "execution_count": 18,
   "id": "68e051eb",
   "metadata": {},
   "outputs": [
    {
     "data": {
      "text/html": [
       "<div>\n",
       "<style scoped>\n",
       "    .dataframe tbody tr th:only-of-type {\n",
       "        vertical-align: middle;\n",
       "    }\n",
       "\n",
       "    .dataframe tbody tr th {\n",
       "        vertical-align: top;\n",
       "    }\n",
       "\n",
       "    .dataframe thead th {\n",
       "        text-align: right;\n",
       "    }\n",
       "</style>\n",
       "<table border=\"1\" class=\"dataframe\">\n",
       "  <thead>\n",
       "    <tr style=\"text-align: right;\">\n",
       "      <th></th>\n",
       "      <th>A</th>\n",
       "      <th>B</th>\n",
       "      <th>C</th>\n",
       "      <th>D</th>\n",
       "    </tr>\n",
       "  </thead>\n",
       "  <tbody>\n",
       "    <tr>\n",
       "      <th>2019-03-05</th>\n",
       "      <td>1.997129</td>\n",
       "      <td>0.991951</td>\n",
       "      <td>0.242911</td>\n",
       "      <td>0.925846</td>\n",
       "    </tr>\n",
       "    <tr>\n",
       "      <th>2019-03-02</th>\n",
       "      <td>-0.160248</td>\n",
       "      <td>0.239577</td>\n",
       "      <td>-0.031435</td>\n",
       "      <td>1.184636</td>\n",
       "    </tr>\n",
       "    <tr>\n",
       "      <th>2019-03-01</th>\n",
       "      <td>-0.269541</td>\n",
       "      <td>-0.368149</td>\n",
       "      <td>-1.110770</td>\n",
       "      <td>0.016233</td>\n",
       "    </tr>\n",
       "    <tr>\n",
       "      <th>2019-03-04</th>\n",
       "      <td>-0.341473</td>\n",
       "      <td>-0.825769</td>\n",
       "      <td>0.116483</td>\n",
       "      <td>-0.708801</td>\n",
       "    </tr>\n",
       "    <tr>\n",
       "      <th>2019-03-03</th>\n",
       "      <td>-0.359648</td>\n",
       "      <td>0.871243</td>\n",
       "      <td>0.204139</td>\n",
       "      <td>-0.836813</td>\n",
       "    </tr>\n",
       "    <tr>\n",
       "      <th>2019-03-06</th>\n",
       "      <td>-1.361861</td>\n",
       "      <td>0.229540</td>\n",
       "      <td>-0.528811</td>\n",
       "      <td>-0.323821</td>\n",
       "    </tr>\n",
       "  </tbody>\n",
       "</table>\n",
       "</div>"
      ],
      "text/plain": [
       "                   A         B         C         D\n",
       "2019-03-05  1.997129  0.991951  0.242911  0.925846\n",
       "2019-03-02 -0.160248  0.239577 -0.031435  1.184636\n",
       "2019-03-01 -0.269541 -0.368149 -1.110770  0.016233\n",
       "2019-03-04 -0.341473 -0.825769  0.116483 -0.708801\n",
       "2019-03-03 -0.359648  0.871243  0.204139 -0.836813\n",
       "2019-03-06 -1.361861  0.229540 -0.528811 -0.323821"
      ]
     },
     "execution_count": 18,
     "metadata": {},
     "output_type": "execute_result"
    }
   ],
   "source": [
    "df.sort_values(by = 'A', ascending = False)"
   ]
  },
  {
   "cell_type": "code",
   "execution_count": 19,
   "id": "81bf1faa",
   "metadata": {},
   "outputs": [
    {
     "data": {
      "text/plain": [
       "2019-03-01   -0.269541\n",
       "2019-03-02   -0.160248\n",
       "2019-03-03   -0.359648\n",
       "2019-03-04   -0.341473\n",
       "2019-03-05    1.997129\n",
       "2019-03-06   -1.361861\n",
       "Freq: D, Name: A, dtype: float64"
      ]
     },
     "execution_count": 19,
     "metadata": {},
     "output_type": "execute_result"
    }
   ],
   "source": [
    "df['A']"
   ]
  },
  {
   "cell_type": "code",
   "execution_count": 20,
   "id": "e661811a",
   "metadata": {},
   "outputs": [
    {
     "data": {
      "text/plain": [
       "pandas.core.series.Series"
      ]
     },
     "execution_count": 20,
     "metadata": {},
     "output_type": "execute_result"
    }
   ],
   "source": [
    "type(df['A'])"
   ]
  },
  {
   "cell_type": "code",
   "execution_count": 21,
   "id": "f70771c0",
   "metadata": {},
   "outputs": [
    {
     "data": {
      "text/html": [
       "<div>\n",
       "<style scoped>\n",
       "    .dataframe tbody tr th:only-of-type {\n",
       "        vertical-align: middle;\n",
       "    }\n",
       "\n",
       "    .dataframe tbody tr th {\n",
       "        vertical-align: top;\n",
       "    }\n",
       "\n",
       "    .dataframe thead th {\n",
       "        text-align: right;\n",
       "    }\n",
       "</style>\n",
       "<table border=\"1\" class=\"dataframe\">\n",
       "  <thead>\n",
       "    <tr style=\"text-align: right;\">\n",
       "      <th></th>\n",
       "      <th>A</th>\n",
       "      <th>B</th>\n",
       "      <th>C</th>\n",
       "      <th>D</th>\n",
       "    </tr>\n",
       "  </thead>\n",
       "  <tbody>\n",
       "    <tr>\n",
       "      <th>2019-03-01</th>\n",
       "      <td>-0.269541</td>\n",
       "      <td>-0.368149</td>\n",
       "      <td>-1.110770</td>\n",
       "      <td>0.016233</td>\n",
       "    </tr>\n",
       "    <tr>\n",
       "      <th>2019-03-02</th>\n",
       "      <td>-0.160248</td>\n",
       "      <td>0.239577</td>\n",
       "      <td>-0.031435</td>\n",
       "      <td>1.184636</td>\n",
       "    </tr>\n",
       "    <tr>\n",
       "      <th>2019-03-03</th>\n",
       "      <td>-0.359648</td>\n",
       "      <td>0.871243</td>\n",
       "      <td>0.204139</td>\n",
       "      <td>-0.836813</td>\n",
       "    </tr>\n",
       "  </tbody>\n",
       "</table>\n",
       "</div>"
      ],
      "text/plain": [
       "                   A         B         C         D\n",
       "2019-03-01 -0.269541 -0.368149 -1.110770  0.016233\n",
       "2019-03-02 -0.160248  0.239577 -0.031435  1.184636\n",
       "2019-03-03 -0.359648  0.871243  0.204139 -0.836813"
      ]
     },
     "execution_count": 21,
     "metadata": {},
     "output_type": "execute_result"
    }
   ],
   "source": [
    "df[0:3]"
   ]
  },
  {
   "cell_type": "code",
   "execution_count": 22,
   "id": "f68c7176",
   "metadata": {},
   "outputs": [
    {
     "data": {
      "text/plain": [
       "A   -0.269541\n",
       "B   -0.368149\n",
       "C   -1.110770\n",
       "D    0.016233\n",
       "Name: 2019-03-01 00:00:00, dtype: float64"
      ]
     },
     "execution_count": 22,
     "metadata": {},
     "output_type": "execute_result"
    }
   ],
   "source": [
    "df.loc['2019-03-01']"
   ]
  },
  {
   "cell_type": "code",
   "execution_count": 23,
   "id": "a43c8bf0",
   "metadata": {},
   "outputs": [
    {
     "data": {
      "text/plain": [
       "-0.26954096301920616"
      ]
     },
     "execution_count": 23,
     "metadata": {},
     "output_type": "execute_result"
    }
   ],
   "source": [
    "df.loc['2019-03-01', 'A']"
   ]
  },
  {
   "cell_type": "code",
   "execution_count": 24,
   "id": "22edb8e1",
   "metadata": {},
   "outputs": [
    {
     "data": {
      "text/plain": [
       "A   -0.269541\n",
       "B   -0.368149\n",
       "Name: 2019-03-01 00:00:00, dtype: float64"
      ]
     },
     "execution_count": 24,
     "metadata": {},
     "output_type": "execute_result"
    }
   ],
   "source": [
    "df.loc['2019-03-01', ['A','B']]"
   ]
  },
  {
   "cell_type": "code",
   "execution_count": 25,
   "id": "50b5eddf",
   "metadata": {},
   "outputs": [
    {
     "data": {
      "text/html": [
       "<div>\n",
       "<style scoped>\n",
       "    .dataframe tbody tr th:only-of-type {\n",
       "        vertical-align: middle;\n",
       "    }\n",
       "\n",
       "    .dataframe tbody tr th {\n",
       "        vertical-align: top;\n",
       "    }\n",
       "\n",
       "    .dataframe thead th {\n",
       "        text-align: right;\n",
       "    }\n",
       "</style>\n",
       "<table border=\"1\" class=\"dataframe\">\n",
       "  <thead>\n",
       "    <tr style=\"text-align: right;\">\n",
       "      <th></th>\n",
       "      <th>A</th>\n",
       "      <th>B</th>\n",
       "    </tr>\n",
       "  </thead>\n",
       "  <tbody>\n",
       "    <tr>\n",
       "      <th>2019-03-01</th>\n",
       "      <td>-0.269541</td>\n",
       "      <td>-0.368149</td>\n",
       "    </tr>\n",
       "    <tr>\n",
       "      <th>2019-03-02</th>\n",
       "      <td>-0.160248</td>\n",
       "      <td>0.239577</td>\n",
       "    </tr>\n",
       "  </tbody>\n",
       "</table>\n",
       "</div>"
      ],
      "text/plain": [
       "                   A         B\n",
       "2019-03-01 -0.269541 -0.368149\n",
       "2019-03-02 -0.160248  0.239577"
      ]
     },
     "execution_count": 25,
     "metadata": {},
     "output_type": "execute_result"
    }
   ],
   "source": [
    "df.loc['2019-03-01' : '2019-03-02', ['A','B']]"
   ]
  },
  {
   "cell_type": "code",
   "execution_count": 26,
   "id": "0b6b5984",
   "metadata": {},
   "outputs": [
    {
     "data": {
      "text/html": [
       "<div>\n",
       "<style scoped>\n",
       "    .dataframe tbody tr th:only-of-type {\n",
       "        vertical-align: middle;\n",
       "    }\n",
       "\n",
       "    .dataframe tbody tr th {\n",
       "        vertical-align: top;\n",
       "    }\n",
       "\n",
       "    .dataframe thead th {\n",
       "        text-align: right;\n",
       "    }\n",
       "</style>\n",
       "<table border=\"1\" class=\"dataframe\">\n",
       "  <thead>\n",
       "    <tr style=\"text-align: right;\">\n",
       "      <th></th>\n",
       "      <th>A</th>\n",
       "      <th>B</th>\n",
       "    </tr>\n",
       "  </thead>\n",
       "  <tbody>\n",
       "    <tr>\n",
       "      <th>2019-03-01</th>\n",
       "      <td>-0.269541</td>\n",
       "      <td>-0.368149</td>\n",
       "    </tr>\n",
       "    <tr>\n",
       "      <th>2019-03-02</th>\n",
       "      <td>-0.160248</td>\n",
       "      <td>0.239577</td>\n",
       "    </tr>\n",
       "    <tr>\n",
       "      <th>2019-03-03</th>\n",
       "      <td>-0.359648</td>\n",
       "      <td>0.871243</td>\n",
       "    </tr>\n",
       "    <tr>\n",
       "      <th>2019-03-04</th>\n",
       "      <td>-0.341473</td>\n",
       "      <td>-0.825769</td>\n",
       "    </tr>\n",
       "    <tr>\n",
       "      <th>2019-03-05</th>\n",
       "      <td>1.997129</td>\n",
       "      <td>0.991951</td>\n",
       "    </tr>\n",
       "    <tr>\n",
       "      <th>2019-03-06</th>\n",
       "      <td>-1.361861</td>\n",
       "      <td>0.229540</td>\n",
       "    </tr>\n",
       "  </tbody>\n",
       "</table>\n",
       "</div>"
      ],
      "text/plain": [
       "                   A         B\n",
       "2019-03-01 -0.269541 -0.368149\n",
       "2019-03-02 -0.160248  0.239577\n",
       "2019-03-03 -0.359648  0.871243\n",
       "2019-03-04 -0.341473 -0.825769\n",
       "2019-03-05  1.997129  0.991951\n",
       "2019-03-06 -1.361861  0.229540"
      ]
     },
     "execution_count": 26,
     "metadata": {},
     "output_type": "execute_result"
    }
   ],
   "source": [
    "df.loc[:, ['A','B']]"
   ]
  },
  {
   "cell_type": "code",
   "execution_count": 27,
   "id": "297427df",
   "metadata": {},
   "outputs": [
    {
     "data": {
      "text/html": [
       "<div>\n",
       "<style scoped>\n",
       "    .dataframe tbody tr th:only-of-type {\n",
       "        vertical-align: middle;\n",
       "    }\n",
       "\n",
       "    .dataframe tbody tr th {\n",
       "        vertical-align: top;\n",
       "    }\n",
       "\n",
       "    .dataframe thead th {\n",
       "        text-align: right;\n",
       "    }\n",
       "</style>\n",
       "<table border=\"1\" class=\"dataframe\">\n",
       "  <thead>\n",
       "    <tr style=\"text-align: right;\">\n",
       "      <th></th>\n",
       "      <th>A</th>\n",
       "      <th>B</th>\n",
       "      <th>C</th>\n",
       "      <th>D</th>\n",
       "    </tr>\n",
       "  </thead>\n",
       "  <tbody>\n",
       "    <tr>\n",
       "      <th>2019-03-01</th>\n",
       "      <td>-0.269541</td>\n",
       "      <td>-0.368149</td>\n",
       "      <td>-1.110770</td>\n",
       "      <td>0.016233</td>\n",
       "    </tr>\n",
       "    <tr>\n",
       "      <th>2019-03-02</th>\n",
       "      <td>-0.160248</td>\n",
       "      <td>0.239577</td>\n",
       "      <td>-0.031435</td>\n",
       "      <td>1.184636</td>\n",
       "    </tr>\n",
       "  </tbody>\n",
       "</table>\n",
       "</div>"
      ],
      "text/plain": [
       "                   A         B         C         D\n",
       "2019-03-01 -0.269541 -0.368149 -1.110770  0.016233\n",
       "2019-03-02 -0.160248  0.239577 -0.031435  1.184636"
      ]
     },
     "execution_count": 27,
     "metadata": {},
     "output_type": "execute_result"
    }
   ],
   "source": [
    "df.iloc[0:2]"
   ]
  },
  {
   "cell_type": "code",
   "execution_count": 28,
   "id": "e3288d35",
   "metadata": {},
   "outputs": [
    {
     "data": {
      "text/html": [
       "<div>\n",
       "<style scoped>\n",
       "    .dataframe tbody tr th:only-of-type {\n",
       "        vertical-align: middle;\n",
       "    }\n",
       "\n",
       "    .dataframe tbody tr th {\n",
       "        vertical-align: top;\n",
       "    }\n",
       "\n",
       "    .dataframe thead th {\n",
       "        text-align: right;\n",
       "    }\n",
       "</style>\n",
       "<table border=\"1\" class=\"dataframe\">\n",
       "  <thead>\n",
       "    <tr style=\"text-align: right;\">\n",
       "      <th></th>\n",
       "      <th>A</th>\n",
       "      <th>B</th>\n",
       "    </tr>\n",
       "  </thead>\n",
       "  <tbody>\n",
       "    <tr>\n",
       "      <th>2019-03-01</th>\n",
       "      <td>-0.269541</td>\n",
       "      <td>-0.368149</td>\n",
       "    </tr>\n",
       "    <tr>\n",
       "      <th>2019-03-02</th>\n",
       "      <td>-0.160248</td>\n",
       "      <td>0.239577</td>\n",
       "    </tr>\n",
       "  </tbody>\n",
       "</table>\n",
       "</div>"
      ],
      "text/plain": [
       "                   A         B\n",
       "2019-03-01 -0.269541 -0.368149\n",
       "2019-03-02 -0.160248  0.239577"
      ]
     },
     "execution_count": 28,
     "metadata": {},
     "output_type": "execute_result"
    }
   ],
   "source": [
    "df.iloc[0:2,0:2]"
   ]
  },
  {
   "cell_type": "code",
   "execution_count": 29,
   "id": "9ca51101",
   "metadata": {},
   "outputs": [
    {
     "data": {
      "text/html": [
       "<div>\n",
       "<style scoped>\n",
       "    .dataframe tbody tr th:only-of-type {\n",
       "        vertical-align: middle;\n",
       "    }\n",
       "\n",
       "    .dataframe tbody tr th {\n",
       "        vertical-align: top;\n",
       "    }\n",
       "\n",
       "    .dataframe thead th {\n",
       "        text-align: right;\n",
       "    }\n",
       "</style>\n",
       "<table border=\"1\" class=\"dataframe\">\n",
       "  <thead>\n",
       "    <tr style=\"text-align: right;\">\n",
       "      <th></th>\n",
       "      <th>A</th>\n",
       "      <th>B</th>\n",
       "    </tr>\n",
       "  </thead>\n",
       "  <tbody>\n",
       "    <tr>\n",
       "      <th>2019-03-01</th>\n",
       "      <td>-0.269541</td>\n",
       "      <td>-0.368149</td>\n",
       "    </tr>\n",
       "    <tr>\n",
       "      <th>2019-03-02</th>\n",
       "      <td>-0.160248</td>\n",
       "      <td>0.239577</td>\n",
       "    </tr>\n",
       "    <tr>\n",
       "      <th>2019-03-03</th>\n",
       "      <td>-0.359648</td>\n",
       "      <td>0.871243</td>\n",
       "    </tr>\n",
       "  </tbody>\n",
       "</table>\n",
       "</div>"
      ],
      "text/plain": [
       "                   A         B\n",
       "2019-03-01 -0.269541 -0.368149\n",
       "2019-03-02 -0.160248  0.239577\n",
       "2019-03-03 -0.359648  0.871243"
      ]
     },
     "execution_count": 29,
     "metadata": {},
     "output_type": "execute_result"
    }
   ],
   "source": [
    "df.iloc[[0,1,2],0:2]"
   ]
  },
  {
   "cell_type": "code",
   "execution_count": 30,
   "id": "a8135f64",
   "metadata": {},
   "outputs": [
    {
     "data": {
      "text/plain": [
       "2019-03-01    False\n",
       "2019-03-02    False\n",
       "2019-03-03    False\n",
       "2019-03-04    False\n",
       "2019-03-05     True\n",
       "2019-03-06    False\n",
       "Freq: D, Name: A, dtype: bool"
      ]
     },
     "execution_count": 30,
     "metadata": {},
     "output_type": "execute_result"
    }
   ],
   "source": [
    "df['A'] > 0"
   ]
  },
  {
   "cell_type": "code",
   "execution_count": 31,
   "id": "36c235a4",
   "metadata": {},
   "outputs": [
    {
     "data": {
      "text/html": [
       "<div>\n",
       "<style scoped>\n",
       "    .dataframe tbody tr th:only-of-type {\n",
       "        vertical-align: middle;\n",
       "    }\n",
       "\n",
       "    .dataframe tbody tr th {\n",
       "        vertical-align: top;\n",
       "    }\n",
       "\n",
       "    .dataframe thead th {\n",
       "        text-align: right;\n",
       "    }\n",
       "</style>\n",
       "<table border=\"1\" class=\"dataframe\">\n",
       "  <thead>\n",
       "    <tr style=\"text-align: right;\">\n",
       "      <th></th>\n",
       "      <th>A</th>\n",
       "      <th>B</th>\n",
       "      <th>C</th>\n",
       "      <th>D</th>\n",
       "    </tr>\n",
       "  </thead>\n",
       "  <tbody>\n",
       "    <tr>\n",
       "      <th>2019-03-05</th>\n",
       "      <td>1.997129</td>\n",
       "      <td>0.991951</td>\n",
       "      <td>0.242911</td>\n",
       "      <td>0.925846</td>\n",
       "    </tr>\n",
       "  </tbody>\n",
       "</table>\n",
       "</div>"
      ],
      "text/plain": [
       "                   A         B         C         D\n",
       "2019-03-05  1.997129  0.991951  0.242911  0.925846"
      ]
     },
     "execution_count": 31,
     "metadata": {},
     "output_type": "execute_result"
    }
   ],
   "source": [
    "df[df['A'] > 0]"
   ]
  },
  {
   "cell_type": "code",
   "execution_count": 32,
   "id": "e9290a14",
   "metadata": {},
   "outputs": [
    {
     "data": {
      "text/html": [
       "<div>\n",
       "<style scoped>\n",
       "    .dataframe tbody tr th:only-of-type {\n",
       "        vertical-align: middle;\n",
       "    }\n",
       "\n",
       "    .dataframe tbody tr th {\n",
       "        vertical-align: top;\n",
       "    }\n",
       "\n",
       "    .dataframe thead th {\n",
       "        text-align: right;\n",
       "    }\n",
       "</style>\n",
       "<table border=\"1\" class=\"dataframe\">\n",
       "  <thead>\n",
       "    <tr style=\"text-align: right;\">\n",
       "      <th></th>\n",
       "      <th>A</th>\n",
       "      <th>B</th>\n",
       "      <th>C</th>\n",
       "      <th>D</th>\n",
       "    </tr>\n",
       "  </thead>\n",
       "  <tbody>\n",
       "    <tr>\n",
       "      <th>2019-03-01</th>\n",
       "      <td>False</td>\n",
       "      <td>False</td>\n",
       "      <td>False</td>\n",
       "      <td>True</td>\n",
       "    </tr>\n",
       "    <tr>\n",
       "      <th>2019-03-02</th>\n",
       "      <td>False</td>\n",
       "      <td>True</td>\n",
       "      <td>False</td>\n",
       "      <td>True</td>\n",
       "    </tr>\n",
       "    <tr>\n",
       "      <th>2019-03-03</th>\n",
       "      <td>False</td>\n",
       "      <td>True</td>\n",
       "      <td>True</td>\n",
       "      <td>False</td>\n",
       "    </tr>\n",
       "    <tr>\n",
       "      <th>2019-03-04</th>\n",
       "      <td>False</td>\n",
       "      <td>False</td>\n",
       "      <td>True</td>\n",
       "      <td>False</td>\n",
       "    </tr>\n",
       "    <tr>\n",
       "      <th>2019-03-05</th>\n",
       "      <td>True</td>\n",
       "      <td>True</td>\n",
       "      <td>True</td>\n",
       "      <td>True</td>\n",
       "    </tr>\n",
       "    <tr>\n",
       "      <th>2019-03-06</th>\n",
       "      <td>False</td>\n",
       "      <td>True</td>\n",
       "      <td>False</td>\n",
       "      <td>False</td>\n",
       "    </tr>\n",
       "  </tbody>\n",
       "</table>\n",
       "</div>"
      ],
      "text/plain": [
       "                A      B      C      D\n",
       "2019-03-01  False  False  False   True\n",
       "2019-03-02  False   True  False   True\n",
       "2019-03-03  False   True   True  False\n",
       "2019-03-04  False  False   True  False\n",
       "2019-03-05   True   True   True   True\n",
       "2019-03-06  False   True  False  False"
      ]
     },
     "execution_count": 32,
     "metadata": {},
     "output_type": "execute_result"
    }
   ],
   "source": [
    "df > 0"
   ]
  },
  {
   "cell_type": "code",
   "execution_count": 33,
   "id": "419dcbd4",
   "metadata": {},
   "outputs": [
    {
     "data": {
      "text/html": [
       "<div>\n",
       "<style scoped>\n",
       "    .dataframe tbody tr th:only-of-type {\n",
       "        vertical-align: middle;\n",
       "    }\n",
       "\n",
       "    .dataframe tbody tr th {\n",
       "        vertical-align: top;\n",
       "    }\n",
       "\n",
       "    .dataframe thead th {\n",
       "        text-align: right;\n",
       "    }\n",
       "</style>\n",
       "<table border=\"1\" class=\"dataframe\">\n",
       "  <thead>\n",
       "    <tr style=\"text-align: right;\">\n",
       "      <th></th>\n",
       "      <th>A</th>\n",
       "      <th>B</th>\n",
       "      <th>C</th>\n",
       "      <th>D</th>\n",
       "    </tr>\n",
       "  </thead>\n",
       "  <tbody>\n",
       "    <tr>\n",
       "      <th>2019-03-01</th>\n",
       "      <td>NaN</td>\n",
       "      <td>NaN</td>\n",
       "      <td>NaN</td>\n",
       "      <td>0.016233</td>\n",
       "    </tr>\n",
       "    <tr>\n",
       "      <th>2019-03-02</th>\n",
       "      <td>NaN</td>\n",
       "      <td>0.239577</td>\n",
       "      <td>NaN</td>\n",
       "      <td>1.184636</td>\n",
       "    </tr>\n",
       "    <tr>\n",
       "      <th>2019-03-03</th>\n",
       "      <td>NaN</td>\n",
       "      <td>0.871243</td>\n",
       "      <td>0.204139</td>\n",
       "      <td>NaN</td>\n",
       "    </tr>\n",
       "    <tr>\n",
       "      <th>2019-03-04</th>\n",
       "      <td>NaN</td>\n",
       "      <td>NaN</td>\n",
       "      <td>0.116483</td>\n",
       "      <td>NaN</td>\n",
       "    </tr>\n",
       "    <tr>\n",
       "      <th>2019-03-05</th>\n",
       "      <td>1.997129</td>\n",
       "      <td>0.991951</td>\n",
       "      <td>0.242911</td>\n",
       "      <td>0.925846</td>\n",
       "    </tr>\n",
       "    <tr>\n",
       "      <th>2019-03-06</th>\n",
       "      <td>NaN</td>\n",
       "      <td>0.229540</td>\n",
       "      <td>NaN</td>\n",
       "      <td>NaN</td>\n",
       "    </tr>\n",
       "  </tbody>\n",
       "</table>\n",
       "</div>"
      ],
      "text/plain": [
       "                   A         B         C         D\n",
       "2019-03-01       NaN       NaN       NaN  0.016233\n",
       "2019-03-02       NaN  0.239577       NaN  1.184636\n",
       "2019-03-03       NaN  0.871243  0.204139       NaN\n",
       "2019-03-04       NaN       NaN  0.116483       NaN\n",
       "2019-03-05  1.997129  0.991951  0.242911  0.925846\n",
       "2019-03-06       NaN  0.229540       NaN       NaN"
      ]
     },
     "execution_count": 33,
     "metadata": {},
     "output_type": "execute_result"
    }
   ],
   "source": [
    "df[df > 0]"
   ]
  },
  {
   "cell_type": "code",
   "execution_count": 34,
   "id": "1fe2cc70",
   "metadata": {},
   "outputs": [
    {
     "data": {
      "text/html": [
       "<div>\n",
       "<style scoped>\n",
       "    .dataframe tbody tr th:only-of-type {\n",
       "        vertical-align: middle;\n",
       "    }\n",
       "\n",
       "    .dataframe tbody tr th {\n",
       "        vertical-align: top;\n",
       "    }\n",
       "\n",
       "    .dataframe thead th {\n",
       "        text-align: right;\n",
       "    }\n",
       "</style>\n",
       "<table border=\"1\" class=\"dataframe\">\n",
       "  <thead>\n",
       "    <tr style=\"text-align: right;\">\n",
       "      <th></th>\n",
       "      <th>A</th>\n",
       "      <th>C</th>\n",
       "      <th>D</th>\n",
       "      <th>B</th>\n",
       "    </tr>\n",
       "  </thead>\n",
       "  <tbody>\n",
       "    <tr>\n",
       "      <th>2019-03-01</th>\n",
       "      <td>-0.269541</td>\n",
       "      <td>-1.110770</td>\n",
       "      <td>0.016233</td>\n",
       "      <td>-0.368149</td>\n",
       "    </tr>\n",
       "    <tr>\n",
       "      <th>2019-03-02</th>\n",
       "      <td>-0.160248</td>\n",
       "      <td>-0.031435</td>\n",
       "      <td>1.184636</td>\n",
       "      <td>0.239577</td>\n",
       "    </tr>\n",
       "    <tr>\n",
       "      <th>2019-03-03</th>\n",
       "      <td>-0.359648</td>\n",
       "      <td>0.204139</td>\n",
       "      <td>-0.836813</td>\n",
       "      <td>0.871243</td>\n",
       "    </tr>\n",
       "    <tr>\n",
       "      <th>2019-03-04</th>\n",
       "      <td>-0.341473</td>\n",
       "      <td>0.116483</td>\n",
       "      <td>-0.708801</td>\n",
       "      <td>-0.825769</td>\n",
       "    </tr>\n",
       "    <tr>\n",
       "      <th>2019-03-05</th>\n",
       "      <td>1.997129</td>\n",
       "      <td>0.242911</td>\n",
       "      <td>0.925846</td>\n",
       "      <td>0.991951</td>\n",
       "    </tr>\n",
       "    <tr>\n",
       "      <th>2019-03-06</th>\n",
       "      <td>-1.361861</td>\n",
       "      <td>-0.528811</td>\n",
       "      <td>-0.323821</td>\n",
       "      <td>0.229540</td>\n",
       "    </tr>\n",
       "  </tbody>\n",
       "</table>\n",
       "</div>"
      ],
      "text/plain": [
       "                   A         C         D         B\n",
       "2019-03-01 -0.269541 -1.110770  0.016233 -0.368149\n",
       "2019-03-02 -0.160248 -0.031435  1.184636  0.239577\n",
       "2019-03-03 -0.359648  0.204139 -0.836813  0.871243\n",
       "2019-03-04 -0.341473  0.116483 -0.708801 -0.825769\n",
       "2019-03-05  1.997129  0.242911  0.925846  0.991951\n",
       "2019-03-06 -1.361861 -0.528811 -0.323821  0.229540"
      ]
     },
     "execution_count": 34,
     "metadata": {},
     "output_type": "execute_result"
    }
   ],
   "source": [
    "df2 = pd.DataFrame(df, columns = ['A', 'C', 'D', 'B'])\n",
    "df2"
   ]
  },
  {
   "cell_type": "code",
   "execution_count": 35,
   "id": "b0111b9f",
   "metadata": {},
   "outputs": [
    {
     "data": {
      "text/html": [
       "<div>\n",
       "<style scoped>\n",
       "    .dataframe tbody tr th:only-of-type {\n",
       "        vertical-align: middle;\n",
       "    }\n",
       "\n",
       "    .dataframe tbody tr th {\n",
       "        vertical-align: top;\n",
       "    }\n",
       "\n",
       "    .dataframe thead th {\n",
       "        text-align: right;\n",
       "    }\n",
       "</style>\n",
       "<table border=\"1\" class=\"dataframe\">\n",
       "  <thead>\n",
       "    <tr style=\"text-align: right;\">\n",
       "      <th></th>\n",
       "      <th>A</th>\n",
       "      <th>B</th>\n",
       "      <th>C</th>\n",
       "      <th>D</th>\n",
       "      <th>E</th>\n",
       "    </tr>\n",
       "  </thead>\n",
       "  <tbody>\n",
       "    <tr>\n",
       "      <th>2019-03-01</th>\n",
       "      <td>-0.269541</td>\n",
       "      <td>-0.368149</td>\n",
       "      <td>-1.110770</td>\n",
       "      <td>0.016233</td>\n",
       "      <td>NaN</td>\n",
       "    </tr>\n",
       "    <tr>\n",
       "      <th>2019-03-02</th>\n",
       "      <td>-0.160248</td>\n",
       "      <td>0.239577</td>\n",
       "      <td>-0.031435</td>\n",
       "      <td>1.184636</td>\n",
       "      <td>NaN</td>\n",
       "    </tr>\n",
       "    <tr>\n",
       "      <th>2019-03-03</th>\n",
       "      <td>-0.359648</td>\n",
       "      <td>0.871243</td>\n",
       "      <td>0.204139</td>\n",
       "      <td>-0.836813</td>\n",
       "      <td>NaN</td>\n",
       "    </tr>\n",
       "    <tr>\n",
       "      <th>2019-03-04</th>\n",
       "      <td>-0.341473</td>\n",
       "      <td>-0.825769</td>\n",
       "      <td>0.116483</td>\n",
       "      <td>-0.708801</td>\n",
       "      <td>NaN</td>\n",
       "    </tr>\n",
       "    <tr>\n",
       "      <th>2019-03-05</th>\n",
       "      <td>1.997129</td>\n",
       "      <td>0.991951</td>\n",
       "      <td>0.242911</td>\n",
       "      <td>0.925846</td>\n",
       "      <td>NaN</td>\n",
       "    </tr>\n",
       "    <tr>\n",
       "      <th>2019-03-06</th>\n",
       "      <td>-1.361861</td>\n",
       "      <td>0.229540</td>\n",
       "      <td>-0.528811</td>\n",
       "      <td>-0.323821</td>\n",
       "      <td>NaN</td>\n",
       "    </tr>\n",
       "  </tbody>\n",
       "</table>\n",
       "</div>"
      ],
      "text/plain": [
       "                   A         B         C         D   E\n",
       "2019-03-01 -0.269541 -0.368149 -1.110770  0.016233 NaN\n",
       "2019-03-02 -0.160248  0.239577 -0.031435  1.184636 NaN\n",
       "2019-03-03 -0.359648  0.871243  0.204139 -0.836813 NaN\n",
       "2019-03-04 -0.341473 -0.825769  0.116483 -0.708801 NaN\n",
       "2019-03-05  1.997129  0.991951  0.242911  0.925846 NaN\n",
       "2019-03-06 -1.361861  0.229540 -0.528811 -0.323821 NaN"
      ]
     },
     "execution_count": 35,
     "metadata": {},
     "output_type": "execute_result"
    }
   ],
   "source": [
    "df['E'] = np.nan\n",
    "df"
   ]
  },
  {
   "cell_type": "code",
   "execution_count": 36,
   "id": "4ba6ede4",
   "metadata": {},
   "outputs": [
    {
     "data": {
      "text/html": [
       "<div>\n",
       "<style scoped>\n",
       "    .dataframe tbody tr th:only-of-type {\n",
       "        vertical-align: middle;\n",
       "    }\n",
       "\n",
       "    .dataframe tbody tr th {\n",
       "        vertical-align: top;\n",
       "    }\n",
       "\n",
       "    .dataframe thead th {\n",
       "        text-align: right;\n",
       "    }\n",
       "</style>\n",
       "<table border=\"1\" class=\"dataframe\">\n",
       "  <thead>\n",
       "    <tr style=\"text-align: right;\">\n",
       "      <th></th>\n",
       "      <th>A</th>\n",
       "      <th>B</th>\n",
       "      <th>C</th>\n",
       "      <th>D</th>\n",
       "      <th>E</th>\n",
       "    </tr>\n",
       "  </thead>\n",
       "  <tbody>\n",
       "    <tr>\n",
       "      <th>2019-03-01</th>\n",
       "      <td>-0.269541</td>\n",
       "      <td>-0.368149</td>\n",
       "      <td>-1.110770</td>\n",
       "      <td>0.016233</td>\n",
       "      <td>NaN</td>\n",
       "    </tr>\n",
       "    <tr>\n",
       "      <th>2019-03-02</th>\n",
       "      <td>-0.160248</td>\n",
       "      <td>0.239577</td>\n",
       "      <td>-0.031435</td>\n",
       "      <td>1.184636</td>\n",
       "      <td>2.0</td>\n",
       "    </tr>\n",
       "    <tr>\n",
       "      <th>2019-03-03</th>\n",
       "      <td>-0.359648</td>\n",
       "      <td>0.871243</td>\n",
       "      <td>0.204139</td>\n",
       "      <td>-0.836813</td>\n",
       "      <td>NaN</td>\n",
       "    </tr>\n",
       "    <tr>\n",
       "      <th>2019-03-04</th>\n",
       "      <td>-0.341473</td>\n",
       "      <td>-0.825769</td>\n",
       "      <td>0.116483</td>\n",
       "      <td>-0.708801</td>\n",
       "      <td>NaN</td>\n",
       "    </tr>\n",
       "    <tr>\n",
       "      <th>2019-03-05</th>\n",
       "      <td>1.997129</td>\n",
       "      <td>0.991951</td>\n",
       "      <td>0.242911</td>\n",
       "      <td>0.925846</td>\n",
       "      <td>NaN</td>\n",
       "    </tr>\n",
       "    <tr>\n",
       "      <th>2019-03-06</th>\n",
       "      <td>-1.361861</td>\n",
       "      <td>0.229540</td>\n",
       "      <td>-0.528811</td>\n",
       "      <td>-0.323821</td>\n",
       "      <td>NaN</td>\n",
       "    </tr>\n",
       "  </tbody>\n",
       "</table>\n",
       "</div>"
      ],
      "text/plain": [
       "                   A         B         C         D    E\n",
       "2019-03-01 -0.269541 -0.368149 -1.110770  0.016233  NaN\n",
       "2019-03-02 -0.160248  0.239577 -0.031435  1.184636  2.0\n",
       "2019-03-03 -0.359648  0.871243  0.204139 -0.836813  NaN\n",
       "2019-03-04 -0.341473 -0.825769  0.116483 -0.708801  NaN\n",
       "2019-03-05  1.997129  0.991951  0.242911  0.925846  NaN\n",
       "2019-03-06 -1.361861  0.229540 -0.528811 -0.323821  NaN"
      ]
     },
     "execution_count": 36,
     "metadata": {},
     "output_type": "execute_result"
    }
   ],
   "source": [
    "df.loc['2019-03-02', 'E'] = 2\n",
    "df"
   ]
  },
  {
   "cell_type": "code",
   "execution_count": 37,
   "id": "b43f2077",
   "metadata": {
    "scrolled": true
   },
   "outputs": [
    {
     "data": {
      "text/html": [
       "<div>\n",
       "<style scoped>\n",
       "    .dataframe tbody tr th:only-of-type {\n",
       "        vertical-align: middle;\n",
       "    }\n",
       "\n",
       "    .dataframe tbody tr th {\n",
       "        vertical-align: top;\n",
       "    }\n",
       "\n",
       "    .dataframe thead th {\n",
       "        text-align: right;\n",
       "    }\n",
       "</style>\n",
       "<table border=\"1\" class=\"dataframe\">\n",
       "  <thead>\n",
       "    <tr style=\"text-align: right;\">\n",
       "      <th></th>\n",
       "      <th>A</th>\n",
       "      <th>B</th>\n",
       "      <th>C</th>\n",
       "      <th>D</th>\n",
       "      <th>E</th>\n",
       "      <th>F</th>\n",
       "    </tr>\n",
       "  </thead>\n",
       "  <tbody>\n",
       "    <tr>\n",
       "      <th>2019-03-01</th>\n",
       "      <td>-0.269541</td>\n",
       "      <td>-0.368149</td>\n",
       "      <td>-1.110770</td>\n",
       "      <td>0.016233</td>\n",
       "      <td>NaN</td>\n",
       "      <td>-0.637690</td>\n",
       "    </tr>\n",
       "    <tr>\n",
       "      <th>2019-03-02</th>\n",
       "      <td>-0.160248</td>\n",
       "      <td>0.239577</td>\n",
       "      <td>-0.031435</td>\n",
       "      <td>1.184636</td>\n",
       "      <td>2.0</td>\n",
       "      <td>0.079329</td>\n",
       "    </tr>\n",
       "    <tr>\n",
       "      <th>2019-03-03</th>\n",
       "      <td>-0.359648</td>\n",
       "      <td>0.871243</td>\n",
       "      <td>0.204139</td>\n",
       "      <td>-0.836813</td>\n",
       "      <td>NaN</td>\n",
       "      <td>0.511595</td>\n",
       "    </tr>\n",
       "    <tr>\n",
       "      <th>2019-03-04</th>\n",
       "      <td>-0.341473</td>\n",
       "      <td>-0.825769</td>\n",
       "      <td>0.116483</td>\n",
       "      <td>-0.708801</td>\n",
       "      <td>NaN</td>\n",
       "      <td>-1.167242</td>\n",
       "    </tr>\n",
       "    <tr>\n",
       "      <th>2019-03-05</th>\n",
       "      <td>1.997129</td>\n",
       "      <td>0.991951</td>\n",
       "      <td>0.242911</td>\n",
       "      <td>0.925846</td>\n",
       "      <td>NaN</td>\n",
       "      <td>2.989080</td>\n",
       "    </tr>\n",
       "    <tr>\n",
       "      <th>2019-03-06</th>\n",
       "      <td>-1.361861</td>\n",
       "      <td>0.229540</td>\n",
       "      <td>-0.528811</td>\n",
       "      <td>-0.323821</td>\n",
       "      <td>NaN</td>\n",
       "      <td>-1.132321</td>\n",
       "    </tr>\n",
       "  </tbody>\n",
       "</table>\n",
       "</div>"
      ],
      "text/plain": [
       "                   A         B         C         D    E         F\n",
       "2019-03-01 -0.269541 -0.368149 -1.110770  0.016233  NaN -0.637690\n",
       "2019-03-02 -0.160248  0.239577 -0.031435  1.184636  2.0  0.079329\n",
       "2019-03-03 -0.359648  0.871243  0.204139 -0.836813  NaN  0.511595\n",
       "2019-03-04 -0.341473 -0.825769  0.116483 -0.708801  NaN -1.167242\n",
       "2019-03-05  1.997129  0.991951  0.242911  0.925846  NaN  2.989080\n",
       "2019-03-06 -1.361861  0.229540 -0.528811 -0.323821  NaN -1.132321"
      ]
     },
     "execution_count": 37,
     "metadata": {},
     "output_type": "execute_result"
    }
   ],
   "source": [
    "df['F'] = df['A'] + df['B']\n",
    "df"
   ]
  },
  {
   "cell_type": "code",
   "execution_count": 38,
   "id": "fe32aa32",
   "metadata": {},
   "outputs": [
    {
     "name": "stdout",
     "output_type": "stream",
     "text": [
      "Requirement already satisfied: xlrd in c:\\users\\user\\anaconda3\\lib\\site-packages (2.0.1)\n"
     ]
    }
   ],
   "source": [
    "!pip install xlrd"
   ]
  },
  {
   "cell_type": "code",
   "execution_count": 39,
   "id": "aa70df58",
   "metadata": {},
   "outputs": [
    {
     "data": {
      "text/html": [
       "<div>\n",
       "<style scoped>\n",
       "    .dataframe tbody tr th:only-of-type {\n",
       "        vertical-align: middle;\n",
       "    }\n",
       "\n",
       "    .dataframe tbody tr th {\n",
       "        vertical-align: top;\n",
       "    }\n",
       "\n",
       "    .dataframe thead th {\n",
       "        text-align: right;\n",
       "    }\n",
       "</style>\n",
       "<table border=\"1\" class=\"dataframe\">\n",
       "  <thead>\n",
       "    <tr style=\"text-align: right;\">\n",
       "      <th></th>\n",
       "      <th>기간</th>\n",
       "      <th>구분</th>\n",
       "      <th>스트레스 인지율</th>\n",
       "      <th>스트레스 인지율.1</th>\n",
       "      <th>스트레스 인지율.2</th>\n",
       "      <th>우울감 경험률</th>\n",
       "      <th>우울감 경험률.1</th>\n",
       "      <th>우울감 경험률.2</th>\n",
       "      <th>자살 생각률</th>\n",
       "      <th>자살 생각률.1</th>\n",
       "      <th>자살 생각률.2</th>\n",
       "    </tr>\n",
       "  </thead>\n",
       "  <tbody>\n",
       "    <tr>\n",
       "      <th>0</th>\n",
       "      <td>기간</td>\n",
       "      <td>구분</td>\n",
       "      <td>전체</td>\n",
       "      <td>남학생</td>\n",
       "      <td>여학생</td>\n",
       "      <td>전체</td>\n",
       "      <td>남학생</td>\n",
       "      <td>여학생</td>\n",
       "      <td>전체</td>\n",
       "      <td>남학생</td>\n",
       "      <td>여학생</td>\n",
       "    </tr>\n",
       "    <tr>\n",
       "      <th>1</th>\n",
       "      <td>2020</td>\n",
       "      <td>구분</td>\n",
       "      <td>35.1</td>\n",
       "      <td>29.8</td>\n",
       "      <td>40.8</td>\n",
       "      <td>25.4</td>\n",
       "      <td>21.2</td>\n",
       "      <td>29.9</td>\n",
       "      <td>11.2</td>\n",
       "      <td>8.8</td>\n",
       "      <td>13.8</td>\n",
       "    </tr>\n",
       "  </tbody>\n",
       "</table>\n",
       "</div>"
      ],
      "text/plain": [
       "     기간  구분  스트레스 인지율 스트레스 인지율.1 스트레스 인지율.2 우울감 경험률 우울감 경험률.1 우울감 경험률.2  \\\n",
       "0    기간  구분        전체        남학생        여학생      전체       남학생       여학생   \n",
       "1  2020   구분     35.1       29.8       40.8    25.4      21.2      29.9   \n",
       "\n",
       "  자살 생각률 자살 생각률.1 자살 생각률.2  \n",
       "0     전체      남학생      여학생  \n",
       "1   11.2      8.8     13.8  "
      ]
     },
     "execution_count": 39,
     "metadata": {},
     "output_type": "execute_result"
    }
   ],
   "source": [
    "pd.read_excel(\"./data/teen.xls\")"
   ]
  },
  {
   "cell_type": "code",
   "execution_count": 40,
   "id": "25aa0661",
   "metadata": {},
   "outputs": [
    {
     "data": {
      "text/html": [
       "<div>\n",
       "<style scoped>\n",
       "    .dataframe tbody tr th:only-of-type {\n",
       "        vertical-align: middle;\n",
       "    }\n",
       "\n",
       "    .dataframe tbody tr th {\n",
       "        vertical-align: top;\n",
       "    }\n",
       "\n",
       "    .dataframe thead th {\n",
       "        text-align: right;\n",
       "    }\n",
       "</style>\n",
       "<table border=\"1\" class=\"dataframe\">\n",
       "  <thead>\n",
       "    <tr style=\"text-align: right;\">\n",
       "      <th></th>\n",
       "      <th>기간</th>\n",
       "      <th>구분</th>\n",
       "      <th>전체</th>\n",
       "      <th>남학생</th>\n",
       "      <th>여학생</th>\n",
       "      <th>전체.1</th>\n",
       "      <th>남학생.1</th>\n",
       "      <th>여학생.1</th>\n",
       "      <th>전체.2</th>\n",
       "      <th>남학생.2</th>\n",
       "      <th>여학생.2</th>\n",
       "    </tr>\n",
       "  </thead>\n",
       "  <tbody>\n",
       "    <tr>\n",
       "      <th>0</th>\n",
       "      <td>2020</td>\n",
       "      <td>구분</td>\n",
       "      <td>35.1</td>\n",
       "      <td>29.8</td>\n",
       "      <td>40.8</td>\n",
       "      <td>25.4</td>\n",
       "      <td>21.2</td>\n",
       "      <td>29.9</td>\n",
       "      <td>11.2</td>\n",
       "      <td>8.8</td>\n",
       "      <td>13.8</td>\n",
       "    </tr>\n",
       "  </tbody>\n",
       "</table>\n",
       "</div>"
      ],
      "text/plain": [
       "     기간 구분     전체   남학생   여학생  전체.1  남학생.1  여학생.1  전체.2  남학생.2  여학생.2\n",
       "0  2020  구분  35.1  29.8  40.8  25.4   21.2   29.9  11.2    8.8   13.8"
      ]
     },
     "execution_count": 40,
     "metadata": {},
     "output_type": "execute_result"
    }
   ],
   "source": [
    "pd.read_excel(\"./data/teen.xls\", header = 1)"
   ]
  },
  {
   "cell_type": "code",
   "execution_count": 41,
   "id": "3025b5b7",
   "metadata": {},
   "outputs": [
    {
     "data": {
      "text/html": [
       "<div>\n",
       "<style scoped>\n",
       "    .dataframe tbody tr th:only-of-type {\n",
       "        vertical-align: middle;\n",
       "    }\n",
       "\n",
       "    .dataframe tbody tr th {\n",
       "        vertical-align: top;\n",
       "    }\n",
       "\n",
       "    .dataframe thead th {\n",
       "        text-align: right;\n",
       "    }\n",
       "</style>\n",
       "<table border=\"1\" class=\"dataframe\">\n",
       "  <thead>\n",
       "    <tr style=\"text-align: right;\">\n",
       "      <th></th>\n",
       "      <th>전체</th>\n",
       "      <th>남학생</th>\n",
       "      <th>여학생</th>\n",
       "      <th>전체.1</th>\n",
       "      <th>남학생.1</th>\n",
       "      <th>여학생.1</th>\n",
       "      <th>전체.2</th>\n",
       "      <th>남학생.2</th>\n",
       "      <th>여학생.2</th>\n",
       "    </tr>\n",
       "  </thead>\n",
       "  <tbody>\n",
       "    <tr>\n",
       "      <th>0</th>\n",
       "      <td>35.1</td>\n",
       "      <td>29.8</td>\n",
       "      <td>40.8</td>\n",
       "      <td>25.4</td>\n",
       "      <td>21.2</td>\n",
       "      <td>29.9</td>\n",
       "      <td>11.2</td>\n",
       "      <td>8.8</td>\n",
       "      <td>13.8</td>\n",
       "    </tr>\n",
       "  </tbody>\n",
       "</table>\n",
       "</div>"
      ],
      "text/plain": [
       "     전체   남학생   여학생  전체.1  남학생.1  여학생.1  전체.2  남학생.2  여학생.2\n",
       "0  35.1  29.8  40.8  25.4   21.2   29.9  11.2    8.8   13.8"
      ]
     },
     "execution_count": 41,
     "metadata": {},
     "output_type": "execute_result"
    }
   ],
   "source": [
    "pd.read_excel(\"./data/teen.xls\", header = 1, usecols = \"C:K\")"
   ]
  },
  {
   "cell_type": "code",
   "execution_count": 42,
   "id": "6f6d18c9",
   "metadata": {},
   "outputs": [
    {
     "data": {
      "text/html": [
       "<div>\n",
       "<style scoped>\n",
       "    .dataframe tbody tr th:only-of-type {\n",
       "        vertical-align: middle;\n",
       "    }\n",
       "\n",
       "    .dataframe tbody tr th {\n",
       "        vertical-align: top;\n",
       "    }\n",
       "\n",
       "    .dataframe thead th {\n",
       "        text-align: right;\n",
       "    }\n",
       "</style>\n",
       "<table border=\"1\" class=\"dataframe\">\n",
       "  <thead>\n",
       "    <tr style=\"text-align: right;\">\n",
       "      <th></th>\n",
       "      <th>스트레스</th>\n",
       "      <th>스트레스남학생</th>\n",
       "      <th>스트레스여학생</th>\n",
       "      <th>우울감경험율</th>\n",
       "      <th>우울남학생</th>\n",
       "      <th>우울여학생</th>\n",
       "      <th>자살생각율</th>\n",
       "      <th>자살남학생</th>\n",
       "      <th>자살여학생</th>\n",
       "    </tr>\n",
       "  </thead>\n",
       "  <tbody>\n",
       "    <tr>\n",
       "      <th>0</th>\n",
       "      <td>35.1</td>\n",
       "      <td>29.8</td>\n",
       "      <td>40.8</td>\n",
       "      <td>25.4</td>\n",
       "      <td>21.2</td>\n",
       "      <td>29.9</td>\n",
       "      <td>11.2</td>\n",
       "      <td>8.8</td>\n",
       "      <td>13.8</td>\n",
       "    </tr>\n",
       "  </tbody>\n",
       "</table>\n",
       "</div>"
      ],
      "text/plain": [
       "   스트레스  스트레스남학생  스트레스여학생  우울감경험율  우울남학생  우울여학생  자살생각율  자살남학생  자살여학생\n",
       "0  35.1     29.8     40.8    25.4   21.2   29.9   11.2    8.8   13.8"
      ]
     },
     "execution_count": 42,
     "metadata": {},
     "output_type": "execute_result"
    }
   ],
   "source": [
    "col_names = ['스트레스', '스트레스남학생', '스트레스여학생', '우울감경험율', '우울남학생', '우울여학생', '자살생각율', '자살남학생', '자살여학생']\n",
    "pd.read_excel(\"./data/teen.xls\", header = 1, usecols = \"C:K\", names = col_names)"
   ]
  },
  {
   "cell_type": "code",
   "execution_count": 43,
   "id": "86ac0cee",
   "metadata": {},
   "outputs": [
    {
     "data": {
      "text/html": [
       "<div>\n",
       "<style scoped>\n",
       "    .dataframe tbody tr th:only-of-type {\n",
       "        vertical-align: middle;\n",
       "    }\n",
       "\n",
       "    .dataframe tbody tr th {\n",
       "        vertical-align: top;\n",
       "    }\n",
       "\n",
       "    .dataframe thead th {\n",
       "        text-align: right;\n",
       "    }\n",
       "</style>\n",
       "<table border=\"1\" class=\"dataframe\">\n",
       "  <thead>\n",
       "    <tr style=\"text-align: right;\">\n",
       "      <th></th>\n",
       "      <th>스트레스</th>\n",
       "      <th>스트레스남학생</th>\n",
       "      <th>스트레스여학생</th>\n",
       "      <th>우울감경험율</th>\n",
       "      <th>우울남학생</th>\n",
       "      <th>우울여학생</th>\n",
       "      <th>자살생각율</th>\n",
       "      <th>자살남학생</th>\n",
       "      <th>자살여학생</th>\n",
       "    </tr>\n",
       "  </thead>\n",
       "  <tbody>\n",
       "    <tr>\n",
       "      <th>0</th>\n",
       "      <td>35.1</td>\n",
       "      <td>29.8</td>\n",
       "      <td>40.8</td>\n",
       "      <td>25.4</td>\n",
       "      <td>21.2</td>\n",
       "      <td>29.9</td>\n",
       "      <td>11.2</td>\n",
       "      <td>8.8</td>\n",
       "      <td>13.8</td>\n",
       "    </tr>\n",
       "  </tbody>\n",
       "</table>\n",
       "</div>"
      ],
      "text/plain": [
       "   스트레스  스트레스남학생  스트레스여학생  우울감경험율  우울남학생  우울여학생  자살생각율  자살남학생  자살여학생\n",
       "0  35.1     29.8     40.8    25.4   21.2   29.9   11.2    8.8   13.8"
      ]
     },
     "execution_count": 43,
     "metadata": {},
     "output_type": "execute_result"
    }
   ],
   "source": [
    "raw_data = pd.read_excel(\"./data/teen.xls\", header = 1, usecols = \"C:K\", names = col_names)\n",
    "raw_data"
   ]
  },
  {
   "cell_type": "code",
   "execution_count": 44,
   "id": "c8b7008c",
   "metadata": {},
   "outputs": [
    {
     "data": {
      "text/html": [
       "<div>\n",
       "<style scoped>\n",
       "    .dataframe tbody tr th:only-of-type {\n",
       "        vertical-align: middle;\n",
       "    }\n",
       "\n",
       "    .dataframe tbody tr th {\n",
       "        vertical-align: top;\n",
       "    }\n",
       "\n",
       "    .dataframe thead th {\n",
       "        text-align: right;\n",
       "    }\n",
       "</style>\n",
       "<table border=\"1\" class=\"dataframe\">\n",
       "  <thead>\n",
       "    <tr style=\"text-align: right;\">\n",
       "      <th></th>\n",
       "      <th>스트레스</th>\n",
       "      <th>스트레스남학생</th>\n",
       "      <th>스트레스여학생</th>\n",
       "      <th>우울감경험율</th>\n",
       "      <th>우울남학생</th>\n",
       "      <th>우울여학생</th>\n",
       "      <th>자살생각율</th>\n",
       "      <th>자살남학생</th>\n",
       "      <th>자살여학생</th>\n",
       "    </tr>\n",
       "  </thead>\n",
       "  <tbody>\n",
       "    <tr>\n",
       "      <th>0</th>\n",
       "      <td>35.1</td>\n",
       "      <td>29.8</td>\n",
       "      <td>40.8</td>\n",
       "      <td>25.4</td>\n",
       "      <td>21.2</td>\n",
       "      <td>29.9</td>\n",
       "      <td>11.2</td>\n",
       "      <td>8.8</td>\n",
       "      <td>13.8</td>\n",
       "    </tr>\n",
       "    <tr>\n",
       "      <th>1</th>\n",
       "      <td>64.9</td>\n",
       "      <td>70.2</td>\n",
       "      <td>59.2</td>\n",
       "      <td>74.6</td>\n",
       "      <td>78.8</td>\n",
       "      <td>70.1</td>\n",
       "      <td>88.8</td>\n",
       "      <td>91.2</td>\n",
       "      <td>86.2</td>\n",
       "    </tr>\n",
       "  </tbody>\n",
       "</table>\n",
       "</div>"
      ],
      "text/plain": [
       "   스트레스  스트레스남학생  스트레스여학생  우울감경험율  우울남학생  우울여학생  자살생각율  자살남학생  자살여학생\n",
       "0  35.1     29.8     40.8    25.4   21.2   29.9   11.2    8.8   13.8\n",
       "1  64.9     70.2     59.2    74.6   78.8   70.1   88.8   91.2   86.2"
      ]
     },
     "execution_count": 44,
     "metadata": {},
     "output_type": "execute_result"
    }
   ],
   "source": [
    "raw_data.loc[1] = 100 - raw_data.loc[0]\n",
    "raw_data"
   ]
  },
  {
   "cell_type": "code",
   "execution_count": 45,
   "id": "49de7f2c",
   "metadata": {},
   "outputs": [
    {
     "data": {
      "text/html": [
       "<div>\n",
       "<style scoped>\n",
       "    .dataframe tbody tr th:only-of-type {\n",
       "        vertical-align: middle;\n",
       "    }\n",
       "\n",
       "    .dataframe tbody tr th {\n",
       "        vertical-align: top;\n",
       "    }\n",
       "\n",
       "    .dataframe thead th {\n",
       "        text-align: right;\n",
       "    }\n",
       "</style>\n",
       "<table border=\"1\" class=\"dataframe\">\n",
       "  <thead>\n",
       "    <tr style=\"text-align: right;\">\n",
       "      <th></th>\n",
       "      <th>스트레스</th>\n",
       "      <th>스트레스남학생</th>\n",
       "      <th>스트레스여학생</th>\n",
       "      <th>우울감경험율</th>\n",
       "      <th>우울남학생</th>\n",
       "      <th>우울여학생</th>\n",
       "      <th>자살생각율</th>\n",
       "      <th>자살남학생</th>\n",
       "      <th>자살여학생</th>\n",
       "    </tr>\n",
       "  </thead>\n",
       "  <tbody>\n",
       "    <tr>\n",
       "      <th>그렇다</th>\n",
       "      <td>35.1</td>\n",
       "      <td>29.8</td>\n",
       "      <td>40.8</td>\n",
       "      <td>25.4</td>\n",
       "      <td>21.2</td>\n",
       "      <td>29.9</td>\n",
       "      <td>11.2</td>\n",
       "      <td>8.8</td>\n",
       "      <td>13.8</td>\n",
       "    </tr>\n",
       "    <tr>\n",
       "      <th>아니다</th>\n",
       "      <td>64.9</td>\n",
       "      <td>70.2</td>\n",
       "      <td>59.2</td>\n",
       "      <td>74.6</td>\n",
       "      <td>78.8</td>\n",
       "      <td>70.1</td>\n",
       "      <td>88.8</td>\n",
       "      <td>91.2</td>\n",
       "      <td>86.2</td>\n",
       "    </tr>\n",
       "  </tbody>\n",
       "</table>\n",
       "</div>"
      ],
      "text/plain": [
       "     스트레스  스트레스남학생  스트레스여학생  우울감경험율  우울남학생  우울여학생  자살생각율  자살남학생  자살여학생\n",
       "그렇다  35.1     29.8     40.8    25.4   21.2   29.9   11.2    8.8   13.8\n",
       "아니다  64.9     70.2     59.2    74.6   78.8   70.1   88.8   91.2   86.2"
      ]
     },
     "execution_count": 45,
     "metadata": {},
     "output_type": "execute_result"
    }
   ],
   "source": [
    "raw_data.rename(index = {0:\"그렇다\", 1:\"아니다\"})"
   ]
  },
  {
   "cell_type": "code",
   "execution_count": 46,
   "id": "f6825f0d",
   "metadata": {},
   "outputs": [
    {
     "data": {
      "text/html": [
       "<div>\n",
       "<style scoped>\n",
       "    .dataframe tbody tr th:only-of-type {\n",
       "        vertical-align: middle;\n",
       "    }\n",
       "\n",
       "    .dataframe tbody tr th {\n",
       "        vertical-align: top;\n",
       "    }\n",
       "\n",
       "    .dataframe thead th {\n",
       "        text-align: right;\n",
       "    }\n",
       "</style>\n",
       "<table border=\"1\" class=\"dataframe\">\n",
       "  <thead>\n",
       "    <tr style=\"text-align: right;\">\n",
       "      <th></th>\n",
       "      <th>스트레스</th>\n",
       "      <th>스트레스남학생</th>\n",
       "      <th>스트레스여학생</th>\n",
       "      <th>우울감경험율</th>\n",
       "      <th>우울남학생</th>\n",
       "      <th>우울여학생</th>\n",
       "      <th>자살생각율</th>\n",
       "      <th>자살남학생</th>\n",
       "      <th>자살여학생</th>\n",
       "    </tr>\n",
       "  </thead>\n",
       "  <tbody>\n",
       "    <tr>\n",
       "      <th>0</th>\n",
       "      <td>35.1</td>\n",
       "      <td>29.8</td>\n",
       "      <td>40.8</td>\n",
       "      <td>25.4</td>\n",
       "      <td>21.2</td>\n",
       "      <td>29.9</td>\n",
       "      <td>11.2</td>\n",
       "      <td>8.8</td>\n",
       "      <td>13.8</td>\n",
       "    </tr>\n",
       "    <tr>\n",
       "      <th>1</th>\n",
       "      <td>64.9</td>\n",
       "      <td>70.2</td>\n",
       "      <td>59.2</td>\n",
       "      <td>74.6</td>\n",
       "      <td>78.8</td>\n",
       "      <td>70.1</td>\n",
       "      <td>88.8</td>\n",
       "      <td>91.2</td>\n",
       "      <td>86.2</td>\n",
       "    </tr>\n",
       "  </tbody>\n",
       "</table>\n",
       "</div>"
      ],
      "text/plain": [
       "   스트레스  스트레스남학생  스트레스여학생  우울감경험율  우울남학생  우울여학생  자살생각율  자살남학생  자살여학생\n",
       "0  35.1     29.8     40.8    25.4   21.2   29.9   11.2    8.8   13.8\n",
       "1  64.9     70.2     59.2    74.6   78.8   70.1   88.8   91.2   86.2"
      ]
     },
     "execution_count": 46,
     "metadata": {},
     "output_type": "execute_result"
    }
   ],
   "source": [
    "raw_data"
   ]
  },
  {
   "cell_type": "code",
   "execution_count": 48,
   "id": "e8c07b92",
   "metadata": {},
   "outputs": [],
   "source": [
    "raw_data['응답'] = ['그렇다', '아니다']\n",
    "raw_data.set_index('응답', drop = True, inplace = True)"
   ]
  },
  {
   "cell_type": "code",
   "execution_count": 49,
   "id": "a345f64a",
   "metadata": {},
   "outputs": [
    {
     "data": {
      "text/html": [
       "<div>\n",
       "<style scoped>\n",
       "    .dataframe tbody tr th:only-of-type {\n",
       "        vertical-align: middle;\n",
       "    }\n",
       "\n",
       "    .dataframe tbody tr th {\n",
       "        vertical-align: top;\n",
       "    }\n",
       "\n",
       "    .dataframe thead th {\n",
       "        text-align: right;\n",
       "    }\n",
       "</style>\n",
       "<table border=\"1\" class=\"dataframe\">\n",
       "  <thead>\n",
       "    <tr style=\"text-align: right;\">\n",
       "      <th></th>\n",
       "      <th>스트레스</th>\n",
       "      <th>스트레스남학생</th>\n",
       "      <th>스트레스여학생</th>\n",
       "      <th>우울감경험율</th>\n",
       "      <th>우울남학생</th>\n",
       "      <th>우울여학생</th>\n",
       "      <th>자살생각율</th>\n",
       "      <th>자살남학생</th>\n",
       "      <th>자살여학생</th>\n",
       "    </tr>\n",
       "    <tr>\n",
       "      <th>응답</th>\n",
       "      <th></th>\n",
       "      <th></th>\n",
       "      <th></th>\n",
       "      <th></th>\n",
       "      <th></th>\n",
       "      <th></th>\n",
       "      <th></th>\n",
       "      <th></th>\n",
       "      <th></th>\n",
       "    </tr>\n",
       "  </thead>\n",
       "  <tbody>\n",
       "    <tr>\n",
       "      <th>그렇다</th>\n",
       "      <td>35.1</td>\n",
       "      <td>29.8</td>\n",
       "      <td>40.8</td>\n",
       "      <td>25.4</td>\n",
       "      <td>21.2</td>\n",
       "      <td>29.9</td>\n",
       "      <td>11.2</td>\n",
       "      <td>8.8</td>\n",
       "      <td>13.8</td>\n",
       "    </tr>\n",
       "    <tr>\n",
       "      <th>아니다</th>\n",
       "      <td>64.9</td>\n",
       "      <td>70.2</td>\n",
       "      <td>59.2</td>\n",
       "      <td>74.6</td>\n",
       "      <td>78.8</td>\n",
       "      <td>70.1</td>\n",
       "      <td>88.8</td>\n",
       "      <td>91.2</td>\n",
       "      <td>86.2</td>\n",
       "    </tr>\n",
       "  </tbody>\n",
       "</table>\n",
       "</div>"
      ],
      "text/plain": [
       "     스트레스  스트레스남학생  스트레스여학생  우울감경험율  우울남학생  우울여학생  자살생각율  자살남학생  자살여학생\n",
       "응답                                                                    \n",
       "그렇다  35.1     29.8     40.8    25.4   21.2   29.9   11.2    8.8   13.8\n",
       "아니다  64.9     70.2     59.2    74.6   78.8   70.1   88.8   91.2   86.2"
      ]
     },
     "execution_count": 49,
     "metadata": {},
     "output_type": "execute_result"
    }
   ],
   "source": [
    "raw_data"
   ]
  },
  {
   "cell_type": "code",
   "execution_count": null,
   "id": "b01ebc22",
   "metadata": {},
   "outputs": [],
   "source": []
  }
 ],
 "metadata": {
  "kernelspec": {
   "display_name": "Python 3",
   "language": "python",
   "name": "python3"
  },
  "language_info": {
   "codemirror_mode": {
    "name": "ipython",
    "version": 3
   },
   "file_extension": ".py",
   "mimetype": "text/x-python",
   "name": "python",
   "nbconvert_exporter": "python",
   "pygments_lexer": "ipython3",
   "version": "3.8.8"
  }
 },
 "nbformat": 4,
 "nbformat_minor": 5
}
